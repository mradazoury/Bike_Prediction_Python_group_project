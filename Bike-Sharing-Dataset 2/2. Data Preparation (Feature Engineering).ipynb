{
 "cells": [
  {
   "cell_type": "markdown",
   "metadata": {},
   "source": [
    "# Washington DC Biking data | Hourly Bike Count Prediction\n",
    "\n",
    "## 2. Data Preparation & Feature Engineering\n",
    "MBD O-1-5"
   ]
  },
  {
   "cell_type": "markdown",
   "metadata": {},
   "source": [
    "### Notebook preperation"
   ]
  },
  {
   "cell_type": "code",
   "execution_count": 1,
   "metadata": {},
   "outputs": [],
   "source": [
    "%matplotlib inline\n",
    "\n",
    "# To automatically reload the function file \n",
    "%load_ext autoreload\n",
    "%aimport My_Functions\n",
    "%run My_Functions.py\n",
    "%autoreload 1"
   ]
  },
  {
   "cell_type": "code",
   "execution_count": 2,
   "metadata": {},
   "outputs": [],
   "source": [
    "# Data Import\n",
    "hourly_raw_data = pd.read_csv('hour.csv')"
   ]
  },
  {
   "cell_type": "markdown",
   "metadata": {},
   "source": [
    "# Feature Engineering"
   ]
  },
  {
   "cell_type": "markdown",
   "metadata": {},
   "source": [
    "### Converting `dteday` to date"
   ]
  },
  {
   "cell_type": "code",
   "execution_count": 3,
   "metadata": {},
   "outputs": [],
   "source": [
    "hourly_raw_data['dteday']=pd.to_datetime(hourly_raw_data['dteday'], format='%Y-%m-%d')"
   ]
  },
  {
   "cell_type": "markdown",
   "metadata": {},
   "source": [
    "## Add `isDaylight` and  `isNoon` for hourly data"
   ]
  },
  {
   "cell_type": "code",
   "execution_count": 4,
   "metadata": {},
   "outputs": [],
   "source": [
    "hourly_raw_data['isDaylight']=0\n",
    "hourly_raw_data['isNoon']=0\n",
    "\n",
    "hourly_raw_data = hourly_raw_data.apply(lambda x: isDaylight(x), axis=1)"
   ]
  },
  {
   "cell_type": "markdown",
   "metadata": {},
   "source": [
    "### Adding the temp atemp windspeed hum relative to the last 7 days value"
   ]
  },
  {
   "cell_type": "code",
   "execution_count": 5,
   "metadata": {},
   "outputs": [],
   "source": [
    "to_relative  = ['temp', 'atemp', 'hum','windspeed']\n",
    "hourly_raw_data = relative_values(hourly_raw_data, to_relative)"
   ]
  },
  {
   "cell_type": "markdown",
   "metadata": {},
   "source": [
    "### Adding `RushHour-High` & \t`RushHour-Med`  &\t`RushHour-Low`"
   ]
  },
  {
   "cell_type": "code",
   "execution_count": 6,
   "metadata": {},
   "outputs": [],
   "source": [
    "hourly_raw_data['RushHour-High'] = 0\n",
    "hourly_raw_data['RushHour-Med'] = 0\n",
    "hourly_raw_data['RushHour-Low'] = 0\n",
    "\n",
    "hourly_raw_data = hourly_raw_data.apply(lambda x: addRushHourFlags(x), axis=1)"
   ]
  },
  {
   "cell_type": "markdown",
   "metadata": {},
   "source": [
    "## Splitting Data"
   ]
  },
  {
   "cell_type": "code",
   "execution_count": 7,
   "metadata": {},
   "outputs": [],
   "source": [
    "workingdays = num_name(hourly_raw_data.loc[(hourly_raw_data['workingday'].isin([1]) )])\n",
    "holidays = num_name(hourly_raw_data.loc[(~hourly_raw_data['workingday'].isin([1]) )])"
   ]
  },
  {
   "cell_type": "markdown",
   "metadata": {},
   "source": [
    "## Mean of the past 3 weeks during the same hour"
   ]
  },
  {
   "cell_type": "code",
   "execution_count": 8,
   "metadata": {},
   "outputs": [],
   "source": [
    "workingdays= mean_per_hour_3weeks(workingdays)\n",
    "holidays = mean_per_hour_3weeks(holidays)"
   ]
  },
  {
   "cell_type": "markdown",
   "metadata": {},
   "source": [
    "### One hot Encoding | 2x for splitted datasets\n",
    "For `season`, `weathersit`, `mnth`,`weekday`,`hr`"
   ]
  },
  {
   "cell_type": "code",
   "execution_count": 9,
   "metadata": {},
   "outputs": [],
   "source": [
    "category  = ['season', 'weathersit', 'mnth','weekday','hr']\n",
    "\n",
    "workingdays = onehot_encode(workingdays,category)\n",
    "workingdays  = workingdays.drop('instant',axis=1)\n",
    "\n",
    "holidays = onehot_encode(holidays,category)\n",
    "holidays  = holidays.drop('instant',axis=1)"
   ]
  },
  {
   "cell_type": "markdown",
   "metadata": {},
   "source": [
    "## Genetic Programming | 2x for splitted datasets"
   ]
  },
  {
   "cell_type": "code",
   "execution_count": 10,
   "metadata": {},
   "outputs": [
    {
     "name": "stdout",
     "output_type": "stream",
     "text": [
      "    |    Population Average   |             Best Individual              |\n",
      "---- ------------------------- ------------------------------------------ ----------\n",
      " Gen   Length          Fitness   Length          Fitness      OOB Fitness  Time Left\n",
      "   0     8.18 0.10366531211608211       27 0.6803303846010792 0.7018874357779318      1.87m\n",
      "   1      6.5 0.354709964903118        9 0.7366881993886866 0.7220164378148297      1.59m\n",
      "   2     6.89 0.5383568806607192        8 0.7476740463886652 0.7490166380713607      1.46m\n",
      "   3    11.18 0.5057637866501863       13 0.7778487551207786 0.7775870072920257      1.41m\n",
      "   4     8.73 0.622810154591345       13 0.819772281327269 0.8099643779653568      1.37m\n",
      "   5    11.37 0.6314295341422707       22 0.8341533887833049 0.8291747736647705      1.31m\n",
      "   6    15.23 0.6718916100606667       35 0.8493650990505909 0.8556537990469637      1.29m\n",
      "   7    20.42 0.7157770457788527       38 0.8516395715562576 0.8432751909933697      1.28m\n",
      "   8    26.64 0.7457576320292357       35 0.8529354308031448 0.8435685600942456      1.26m\n",
      "   9    31.88 0.7561574160941632       35 0.8529372931229201 0.8419409692500015      1.25m\n",
      "  10    35.55 0.75590612292432       35 0.8596101056645172 0.8496629159262548      1.21m\n",
      "  11     35.6 0.7577516298268924       67 0.8617915000801162 0.866364667818459      1.17m\n",
      "  12     35.5 0.7490225667436534       41 0.8639209008635413 0.8567762898059553      1.09m\n",
      "  13    36.28 0.7617784293206373       41 0.8658754318718078 0.8359655065101648     57.87s\n",
      "  14    36.68 0.7745503765323003       41 0.8657213212865869 0.8388066646581145     53.90s\n",
      "  15    36.95 0.7840683142516855       55 0.8655231255414028 0.841156242650006     45.01s\n",
      "  16    37.29 0.778035154073355       44 0.8654437783339207 0.8610710800427817     34.89s\n",
      "  17     38.0 0.7709353855584047       35 0.8701513438893017 0.8841831081116486     23.66s\n",
      "  18    38.16 0.7818389341782349       36 0.8803818527600898 0.8770770058039786     11.94s\n",
      "  19    38.61 0.7719413115228365       36 0.8817286785333577 0.8648330383636277      0.00s\n",
      "Number of features created out of genetic programing: (11841, 15)\n"
     ]
    }
   ],
   "source": [
    "dates = workingdays['dteday']\n",
    "registered = workingdays['registered']\n",
    "casual = workingdays['casual']\n",
    "workingdays = Genetic_P(workingdays.drop(['registered','casual','dteday'],axis=1),'cnt')\n",
    "workingdays['dteday'] = dates\n",
    "workingdays['registered'] = registered\n",
    "workingdays['casual'] = casual"
   ]
  },
  {
   "cell_type": "code",
   "execution_count": 11,
   "metadata": {},
   "outputs": [
    {
     "name": "stdout",
     "output_type": "stream",
     "text": [
      "    |    Population Average   |             Best Individual              |\n",
      "---- ------------------------- ------------------------------------------ ----------\n",
      " Gen   Length          Fitness   Length          Fitness      OOB Fitness  Time Left\n",
      "   0     8.19 0.1279387555910619       27 0.7391447702124135 0.6790842209716381     32.27s\n",
      "   1     6.83 0.40810662483711346        9 0.7767287166819173 0.796930939034333     43.26s\n",
      "   2     7.32 0.5711801232866154        8 0.7954894833264207 0.8168501449209555     54.58s\n",
      "   3    12.02 0.539867688621446       10 0.8138789870687457 0.7884004724625453     59.12s\n",
      "   4     8.44 0.6675797536118186       12 0.8152968051845696 0.8020240119831885      1.01m\n",
      "   5    10.46 0.6643969869918799       12 0.8266288755576687 0.8170749732941051     59.83s\n",
      "   6    13.07 0.6887941841707027       12 0.826024400928929 0.8230713618188912     56.76s\n",
      "   7    13.13 0.6906523444934862       21 0.8284314229676841 0.8229788724006125     52.35s\n",
      "   8    14.16 0.7015206001227491       26 0.8366117284867484 0.819554035283775     49.04s\n",
      "   9    15.96 0.7084049330430291       25 0.8390484509561364 0.825133321104512     44.81s\n",
      "  10     16.5 0.705023798370279       11 0.8466324501592138 0.8659658979106714     40.85s\n",
      "  11    18.27 0.7173043817476921       26 0.8525790315332034 0.8344118793758166     36.60s\n",
      "  12    19.52 0.7172017349380975       27 0.8553979009033416 0.845739195259092     32.49s\n",
      "  13     17.7 0.6981848544616095       32 0.8584283560865943 0.8722454230352821     28.25s\n",
      "  14    15.68 0.7168589286196093       46 0.8611864943227328 0.8677935742356144     23.76s\n",
      "  15    13.16 0.7145666344774058       28 0.8590710866887687 0.8505271936935428     19.13s\n",
      "  16    10.82 0.7175209255580778       33 0.8590579564960812 0.8387145525030414     14.38s\n",
      "  17     10.0 0.7297152324631035       26 0.8542884836679081 0.8522640068202044      9.59s\n",
      "  18    10.14 0.7283766858123347       10 0.8540261614815664 0.8062306386257975      4.78s\n",
      "  19    10.14 0.7304842495237451       10 0.8542395463656118 0.8124039207191525      0.00s\n",
      "Number of features created out of genetic programing: (5484, 15)\n"
     ]
    }
   ],
   "source": [
    "dates = holidays['dteday']\n",
    "registered = holidays['registered']\n",
    "casual = holidays['casual']\n",
    "holidays = Genetic_P(holidays.drop(['registered','casual','dteday'],axis=1),'cnt')\n",
    "holidays['dteday'] = dates\n",
    "holidays['registered'] = registered\n",
    "holidays['casual'] = casual"
   ]
  },
  {
   "cell_type": "markdown",
   "metadata": {},
   "source": [
    "# Final Datasets"
   ]
  },
  {
   "cell_type": "code",
   "execution_count": 12,
   "metadata": {},
   "outputs": [
    {
     "data": {
      "text/html": [
       "<div>\n",
       "<style scoped>\n",
       "    .dataframe tbody tr th:only-of-type {\n",
       "        vertical-align: middle;\n",
       "    }\n",
       "\n",
       "    .dataframe tbody tr th {\n",
       "        vertical-align: top;\n",
       "    }\n",
       "\n",
       "    .dataframe thead th {\n",
       "        text-align: right;\n",
       "    }\n",
       "</style>\n",
       "<table border=\"1\" class=\"dataframe\">\n",
       "  <thead>\n",
       "    <tr style=\"text-align: right;\">\n",
       "      <th></th>\n",
       "      <th>1</th>\n",
       "      <th>2</th>\n",
       "      <th>3</th>\n",
       "      <th>4</th>\n",
       "      <th>5</th>\n",
       "      <th>6</th>\n",
       "      <th>7</th>\n",
       "      <th>8</th>\n",
       "      <th>9</th>\n",
       "      <th>10</th>\n",
       "      <th>11</th>\n",
       "      <th>12</th>\n",
       "      <th>13</th>\n",
       "      <th>14</th>\n",
       "    </tr>\n",
       "  </thead>\n",
       "  <tbody>\n",
       "    <tr>\n",
       "      <th>29</th>\n",
       "      <td>0.974798</td>\n",
       "      <td>0.846545</td>\n",
       "      <td>0.779781</td>\n",
       "      <td>0.676480</td>\n",
       "      <td>0.974798</td>\n",
       "      <td>0.861633</td>\n",
       "      <td>0.974798</td>\n",
       "      <td>0.975218</td>\n",
       "      <td>0.662575</td>\n",
       "      <td>0.974798</td>\n",
       "      <td>0.974798</td>\n",
       "      <td>0.732373</td>\n",
       "      <td>0.974798</td>\n",
       "      <td>0.561336</td>\n",
       "    </tr>\n",
       "    <tr>\n",
       "      <th>30</th>\n",
       "      <td>0.977095</td>\n",
       "      <td>0.847556</td>\n",
       "      <td>0.780356</td>\n",
       "      <td>0.675562</td>\n",
       "      <td>0.977095</td>\n",
       "      <td>0.862450</td>\n",
       "      <td>0.977095</td>\n",
       "      <td>0.977443</td>\n",
       "      <td>0.661817</td>\n",
       "      <td>0.977095</td>\n",
       "      <td>0.977095</td>\n",
       "      <td>0.731917</td>\n",
       "      <td>0.977095</td>\n",
       "      <td>0.559433</td>\n",
       "    </tr>\n",
       "    <tr>\n",
       "      <th>31</th>\n",
       "      <td>0.925130</td>\n",
       "      <td>0.824357</td>\n",
       "      <td>0.767373</td>\n",
       "      <td>0.696062</td>\n",
       "      <td>0.925130</td>\n",
       "      <td>0.844015</td>\n",
       "      <td>0.925130</td>\n",
       "      <td>0.928794</td>\n",
       "      <td>0.679029</td>\n",
       "      <td>0.925130</td>\n",
       "      <td>0.925130</td>\n",
       "      <td>0.742426</td>\n",
       "      <td>0.925130</td>\n",
       "      <td>0.601731</td>\n",
       "    </tr>\n",
       "    <tr>\n",
       "      <th>32</th>\n",
       "      <td>0.931994</td>\n",
       "      <td>0.827456</td>\n",
       "      <td>0.769083</td>\n",
       "      <td>0.693390</td>\n",
       "      <td>0.931994</td>\n",
       "      <td>0.846441</td>\n",
       "      <td>0.931994</td>\n",
       "      <td>0.935023</td>\n",
       "      <td>0.676751</td>\n",
       "      <td>0.931994</td>\n",
       "      <td>0.931994</td>\n",
       "      <td>0.741017</td>\n",
       "      <td>0.931994</td>\n",
       "      <td>0.596234</td>\n",
       "    </tr>\n",
       "    <tr>\n",
       "      <th>33</th>\n",
       "      <td>0.790369</td>\n",
       "      <td>0.762529</td>\n",
       "      <td>0.734913</td>\n",
       "      <td>0.745258</td>\n",
       "      <td>0.790369</td>\n",
       "      <td>0.797924</td>\n",
       "      <td>0.790369</td>\n",
       "      <td>0.818138</td>\n",
       "      <td>0.723091</td>\n",
       "      <td>0.790369</td>\n",
       "      <td>0.790369</td>\n",
       "      <td>0.770767</td>\n",
       "      <td>0.790369</td>\n",
       "      <td>0.703583</td>\n",
       "    </tr>\n",
       "  </tbody>\n",
       "</table>\n",
       "</div>"
      ],
      "text/plain": [
       "          1         2         3         4         5         6         7   \\\n",
       "29  0.974798  0.846545  0.779781  0.676480  0.974798  0.861633  0.974798   \n",
       "30  0.977095  0.847556  0.780356  0.675562  0.977095  0.862450  0.977095   \n",
       "31  0.925130  0.824357  0.767373  0.696062  0.925130  0.844015  0.925130   \n",
       "32  0.931994  0.827456  0.769083  0.693390  0.931994  0.846441  0.931994   \n",
       "33  0.790369  0.762529  0.734913  0.745258  0.790369  0.797924  0.790369   \n",
       "\n",
       "          8         9         10        11        12        13        14  \n",
       "29  0.975218  0.662575  0.974798  0.974798  0.732373  0.974798  0.561336  \n",
       "30  0.977443  0.661817  0.977095  0.977095  0.731917  0.977095  0.559433  \n",
       "31  0.928794  0.679029  0.925130  0.925130  0.742426  0.925130  0.601731  \n",
       "32  0.935023  0.676751  0.931994  0.931994  0.741017  0.931994  0.596234  \n",
       "33  0.818138  0.723091  0.790369  0.790369  0.770767  0.790369  0.703583  "
      ]
     },
     "execution_count": 12,
     "metadata": {},
     "output_type": "execute_result"
    }
   ],
   "source": [
    "holidays[np.arange(1,15)].head()"
   ]
  },
  {
   "cell_type": "code",
   "execution_count": 13,
   "metadata": {},
   "outputs": [
    {
     "data": {
      "text/html": [
       "<div>\n",
       "<style scoped>\n",
       "    .dataframe tbody tr th:only-of-type {\n",
       "        vertical-align: middle;\n",
       "    }\n",
       "\n",
       "    .dataframe tbody tr th {\n",
       "        vertical-align: top;\n",
       "    }\n",
       "\n",
       "    .dataframe thead th {\n",
       "        text-align: right;\n",
       "    }\n",
       "</style>\n",
       "<table border=\"1\" class=\"dataframe\">\n",
       "  <thead>\n",
       "    <tr style=\"text-align: right;\">\n",
       "      <th></th>\n",
       "      <th>yr</th>\n",
       "      <th>RushHour-Med</th>\n",
       "      <th>workingday</th>\n",
       "      <th>atemp</th>\n",
       "      <th>relative_hum</th>\n",
       "      <th>isDaylight</th>\n",
       "      <th>relative_atemp</th>\n",
       "      <th>mean_per_hour</th>\n",
       "      <th>relative_windspeed</th>\n",
       "      <th>RushHour-Low</th>\n",
       "      <th>...</th>\n",
       "      <th>8</th>\n",
       "      <th>9</th>\n",
       "      <th>10</th>\n",
       "      <th>11</th>\n",
       "      <th>12</th>\n",
       "      <th>13</th>\n",
       "      <th>14</th>\n",
       "      <th>dteday</th>\n",
       "      <th>registered</th>\n",
       "      <th>casual</th>\n",
       "    </tr>\n",
       "  </thead>\n",
       "  <tbody>\n",
       "    <tr>\n",
       "      <th>29</th>\n",
       "      <td>0</td>\n",
       "      <td>0</td>\n",
       "      <td>0</td>\n",
       "      <td>0.4242</td>\n",
       "      <td>-0.775524</td>\n",
       "      <td>0</td>\n",
       "      <td>0.618955</td>\n",
       "      <td>2.0</td>\n",
       "      <td>0.971523</td>\n",
       "      <td>1</td>\n",
       "      <td>...</td>\n",
       "      <td>0.975218</td>\n",
       "      <td>0.662575</td>\n",
       "      <td>0.974798</td>\n",
       "      <td>0.974798</td>\n",
       "      <td>0.732373</td>\n",
       "      <td>0.974798</td>\n",
       "      <td>0.561336</td>\n",
       "      <td>2011-01-02</td>\n",
       "      <td>2</td>\n",
       "      <td>0</td>\n",
       "    </tr>\n",
       "    <tr>\n",
       "      <th>30</th>\n",
       "      <td>0</td>\n",
       "      <td>0</td>\n",
       "      <td>0</td>\n",
       "      <td>0.4091</td>\n",
       "      <td>-0.887625</td>\n",
       "      <td>0</td>\n",
       "      <td>0.401594</td>\n",
       "      <td>3.0</td>\n",
       "      <td>0.117373</td>\n",
       "      <td>1</td>\n",
       "      <td>...</td>\n",
       "      <td>0.977443</td>\n",
       "      <td>0.661817</td>\n",
       "      <td>0.977095</td>\n",
       "      <td>0.977095</td>\n",
       "      <td>0.731917</td>\n",
       "      <td>0.977095</td>\n",
       "      <td>0.559433</td>\n",
       "      <td>2011-01-02</td>\n",
       "      <td>1</td>\n",
       "      <td>0</td>\n",
       "    </tr>\n",
       "    <tr>\n",
       "      <th>31</th>\n",
       "      <td>0</td>\n",
       "      <td>1</td>\n",
       "      <td>0</td>\n",
       "      <td>0.4091</td>\n",
       "      <td>-1.527457</td>\n",
       "      <td>1</td>\n",
       "      <td>0.394223</td>\n",
       "      <td>8.0</td>\n",
       "      <td>0.355008</td>\n",
       "      <td>0</td>\n",
       "      <td>...</td>\n",
       "      <td>0.928794</td>\n",
       "      <td>0.679029</td>\n",
       "      <td>0.925130</td>\n",
       "      <td>0.925130</td>\n",
       "      <td>0.742426</td>\n",
       "      <td>0.925130</td>\n",
       "      <td>0.601731</td>\n",
       "      <td>2011-01-02</td>\n",
       "      <td>8</td>\n",
       "      <td>0</td>\n",
       "    </tr>\n",
       "    <tr>\n",
       "      <th>32</th>\n",
       "      <td>0</td>\n",
       "      <td>1</td>\n",
       "      <td>0</td>\n",
       "      <td>0.3939</td>\n",
       "      <td>-0.798609</td>\n",
       "      <td>1</td>\n",
       "      <td>0.176721</td>\n",
       "      <td>14.0</td>\n",
       "      <td>0.348889</td>\n",
       "      <td>0</td>\n",
       "      <td>...</td>\n",
       "      <td>0.935023</td>\n",
       "      <td>0.676751</td>\n",
       "      <td>0.931994</td>\n",
       "      <td>0.931994</td>\n",
       "      <td>0.741017</td>\n",
       "      <td>0.931994</td>\n",
       "      <td>0.596234</td>\n",
       "      <td>2011-01-02</td>\n",
       "      <td>19</td>\n",
       "      <td>1</td>\n",
       "    </tr>\n",
       "    <tr>\n",
       "      <th>33</th>\n",
       "      <td>0</td>\n",
       "      <td>0</td>\n",
       "      <td>0</td>\n",
       "      <td>0.3485</td>\n",
       "      <td>-0.123220</td>\n",
       "      <td>1</td>\n",
       "      <td>-0.464531</td>\n",
       "      <td>36.0</td>\n",
       "      <td>0.343078</td>\n",
       "      <td>0</td>\n",
       "      <td>...</td>\n",
       "      <td>0.818138</td>\n",
       "      <td>0.723091</td>\n",
       "      <td>0.790369</td>\n",
       "      <td>0.790369</td>\n",
       "      <td>0.770767</td>\n",
       "      <td>0.790369</td>\n",
       "      <td>0.703583</td>\n",
       "      <td>2011-01-02</td>\n",
       "      <td>46</td>\n",
       "      <td>7</td>\n",
       "    </tr>\n",
       "  </tbody>\n",
       "</table>\n",
       "<p>5 rows × 87 columns</p>\n",
       "</div>"
      ],
      "text/plain": [
       "    yr  RushHour-Med  workingday   atemp  relative_hum  isDaylight  \\\n",
       "29   0             0           0  0.4242     -0.775524           0   \n",
       "30   0             0           0  0.4091     -0.887625           0   \n",
       "31   0             1           0  0.4091     -1.527457           1   \n",
       "32   0             1           0  0.3939     -0.798609           1   \n",
       "33   0             0           0  0.3485     -0.123220           1   \n",
       "\n",
       "    relative_atemp  mean_per_hour  relative_windspeed  RushHour-Low  ...  \\\n",
       "29        0.618955            2.0            0.971523             1  ...   \n",
       "30        0.401594            3.0            0.117373             1  ...   \n",
       "31        0.394223            8.0            0.355008             0  ...   \n",
       "32        0.176721           14.0            0.348889             0  ...   \n",
       "33       -0.464531           36.0            0.343078             0  ...   \n",
       "\n",
       "           8         9        10        11        12        13        14  \\\n",
       "29  0.975218  0.662575  0.974798  0.974798  0.732373  0.974798  0.561336   \n",
       "30  0.977443  0.661817  0.977095  0.977095  0.731917  0.977095  0.559433   \n",
       "31  0.928794  0.679029  0.925130  0.925130  0.742426  0.925130  0.601731   \n",
       "32  0.935023  0.676751  0.931994  0.931994  0.741017  0.931994  0.596234   \n",
       "33  0.818138  0.723091  0.790369  0.790369  0.770767  0.790369  0.703583   \n",
       "\n",
       "       dteday  registered  casual  \n",
       "29 2011-01-02           2       0  \n",
       "30 2011-01-02           1       0  \n",
       "31 2011-01-02           8       0  \n",
       "32 2011-01-02          19       1  \n",
       "33 2011-01-02          46       7  \n",
       "\n",
       "[5 rows x 87 columns]"
      ]
     },
     "execution_count": 13,
     "metadata": {},
     "output_type": "execute_result"
    }
   ],
   "source": [
    "holidays.head()"
   ]
  },
  {
   "cell_type": "markdown",
   "metadata": {},
   "source": [
    "## Save Both datasets"
   ]
  },
  {
   "cell_type": "code",
   "execution_count": 14,
   "metadata": {},
   "outputs": [],
   "source": [
    "workingdays.to_csv(\"workingdays_data_prepared.csv\", index=False)\n",
    "holidays.to_csv(\"weekends_holi_data_prepared.csv\", index=False)"
   ]
  }
 ],
 "metadata": {
  "kernelspec": {
   "display_name": "Python 3",
   "language": "python",
   "name": "python3"
  },
  "language_info": {
   "codemirror_mode": {
    "name": "ipython",
    "version": 3
   },
   "file_extension": ".py",
   "mimetype": "text/x-python",
   "name": "python",
   "nbconvert_exporter": "python",
   "pygments_lexer": "ipython3",
   "version": "3.7.1"
  }
 },
 "nbformat": 4,
 "nbformat_minor": 2
}
